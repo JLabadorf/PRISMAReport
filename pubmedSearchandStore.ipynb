{
 "cells": [
  {
   "cell_type": "markdown",
   "metadata": {},
   "source": [
    "# PubMed Search and Store\n",
    "\n",
    "## Notebook Description\n",
    "\n",
    "This notebook, **PubMed Search and Store**, provides a streamlined method for searching PubMed and storing essential information from retrieved articles. The goal is to facilitate the extraction and organization of metadata from PubMed articles and make it available for further analysis and review.\n",
    "\n",
    "## Objectives\n",
    "\n",
    "1. **Search PubMed**: Retrieve articles from PubMed based on a specified search query.\n",
    "2. **Store Essential Metadata**: Extract and save key fields for each article, including:\n",
    "   - **Title**: Article title.\n",
    "   - **Authors**: List of authors.\n",
    "   - **PubMed ID**: Unique identifier for PubMed articles.\n",
    "   - **DOI**: Digital Object Identifier, if available.\n",
    "   - **Abstract**: Summary of the article’s content.\n",
    "3. **Retrieve PDF URL**: If available, attempt to locate and store a URL to the full-text PDF of each article.\n",
    "\n",
    "## Implementation Details\n"
   ]
  },
  {
   "cell_type": "code",
   "execution_count": null,
   "metadata": {},
   "outputs": [],
   "source": [
    "from pymed import PubMed\n",
    "import json\n",
    "import pandas as pd\n",
    "import uuid\n",
    "#read the json pico_examples.json\n",
    "\n",
    "with open('pico_examples.json') as f:\n",
    "    data = json.load(f)\n",
    "f.close()\n",
    "\n",
    "pico_df = pd.DataFrame(data)\n",
    "\n",
    "#add a column which will be the unique identifier for the pico question\n",
    "pico_df['PICO_ID'] = [uuid.uuid4() for _ in range(len(pico_df))]\n",
    "\n",
    "#pull the first pico PubMedSearchStr and search for it\n",
    "pm = PubMed(tool=\"VertexAIPICO\", email=\"james@jameslabadorf.com\")\n",
    "\n",
    "def get_results(pico):\n",
    "    results = list(pm.query(pico, max_results=1000))\n",
    "    print(\"PubMed query for: \", pico)\n",
    "    print(\"Number of results: \", len(results))\n",
    "    return results\n",
    "\n",
    "def create_flat_dicitonary(result):\n",
    "    result_dict = {}\n",
    "    result_dict[\"pubmed_id\"] = result['pubmed_id'].split(\"\\n\")[0]\n",
    "    authors = result['authors']\n",
    "    if len(authors) > 3:\n",
    "        result_dict['authors'] = authors[0]['lastname'] + \" et al.\"\n",
    "    elif len(authors) > 0:\n",
    "        author_list = []\n",
    "        for author in authors:\n",
    "            last_name = author['lastname']\n",
    "            if last_name is not None:\n",
    "                author_list.append(author['lastname'])\n",
    "        result_dict['authors'] = \", \".join(author_list)\n",
    "    else:\n",
    "        result_dict['authors'] = \"\"\n",
    "    result_dict['title'] = result['title']\n",
    "    result_dict['abstract'] = result['abstract']\n",
    "    result_dict['keywords'] = str(result['keywords'])\n",
    "    result_dict['journal'] = result['journal']\n",
    "    result_dict['doi'] = result['doi']\n",
    "    result_dict['publication_date'] = result['publication_date']\n",
    "    result_dict['authors_raw'] = str(result['authors'])\n",
    "    result_dict[\"pubmed_id_raw\"] = result['pubmed_id']\n",
    "    #we want to create a list of authors such that it is First Author's Last name + et al. if there are more than 3 authors. If there are 3 or less authors, we want to list all authors' last names\n",
    "    return result_dict\n",
    "\n",
    "results_df = pd.DataFrame()\n",
    "\n",
    "from tqdm.notebook import tqdm\n",
    "for index, pico in tqdm(pico_df.iterrows(), total=len(pico_df)):\n",
    "    results = get_results(pico['PubMedSearchStr'])\n",
    "    flat_results = [create_flat_dicitonary(result.toDict()) for result in results]\n",
    "    for result in flat_results:\n",
    "        result['PICO_ID'] = pico['PICO_ID']\n",
    "    results_df = pd.concat([results_df, pd.DataFrame(flat_results)])\n",
    "\n",
    "\n",
    "#print a summary of the results\n",
    "print(\"Summary of results\")\n",
    "print(\"Number of total results: \", len(results_df))\n",
    "print(\"Number of unique PICO questions: \", len(results_df['PICO_ID'].unique()))\n",
    "\n",
    "results_df.to_csv(\"PubMed_PICO_Results.csv\", index=False)\n"
   ]
  },
  {
   "cell_type": "code",
   "execution_count": 50,
   "metadata": {},
   "outputs": [
    {
     "data": {
      "application/vnd.jupyter.widget-view+json": {
       "model_id": "6794b03c1f03487db4fb233b550b4e3a",
       "version_major": 2,
       "version_minor": 0
      },
      "text/plain": [
       "  0%|          | 0/548 [00:00<?, ?it/s]"
      ]
     },
     "metadata": {},
     "output_type": "display_data"
    },
    {
     "name": "stdout",
     "output_type": "stream",
     "text": [
      "cannot access local variable 'pdfurl' where it is not associated with a value\n"
     ]
    },
    {
     "name": "stderr",
     "output_type": "stream",
     "text": [
      "\u001b[32m2024-10-29 13:21:13\u001b[0m \u001b[35mDESKTOP-NVR8E1L\u001b[0m \u001b[34mmetapub.DxDOI[6908]\u001b[0m \u001b[1;30mINFO\u001b[0m URL is accessible: https://link.springer.com/article/10.1007/s10072-019-03736-3 (Status code: 200)\n",
      "\u001b[32m2024-10-29 13:21:13\u001b[0m \u001b[35mDESKTOP-NVR8E1L\u001b[0m \u001b[34mmetapub.DxDOI[6908]\u001b[0m \u001b[1;30mINFO\u001b[0m cached results for key 10.1007/s10072-019-03736-3 (10.1007/s10072-019-03736-3) \n",
      "\u001b[32m2024-10-29 13:21:37\u001b[0m \u001b[35mDESKTOP-NVR8E1L\u001b[0m \u001b[34mmetapub.DxDOI[6908]\u001b[0m \u001b[1;30mINFO\u001b[0m URL is accessible: https://link.springer.com/article/10.1007/s13760-018-1034-5 (Status code: 200)\n",
      "\u001b[32m2024-10-29 13:21:37\u001b[0m \u001b[35mDESKTOP-NVR8E1L\u001b[0m \u001b[34mmetapub.DxDOI[6908]\u001b[0m \u001b[1;30mINFO\u001b[0m cached results for key 10.1007/s13760-018-1034-5 (10.1007/s13760-018-1034-5) \n",
      "\u001b[32m2024-10-29 13:22:15\u001b[0m \u001b[35mDESKTOP-NVR8E1L\u001b[0m \u001b[34mmetapub.DxDOI[6908]\u001b[0m \u001b[1;30mINFO\u001b[0m URL is accessible: https://link.springer.com/article/10.1007/s00592-018-1132-0 (Status code: 200)\n",
      "\u001b[32m2024-10-29 13:22:15\u001b[0m \u001b[35mDESKTOP-NVR8E1L\u001b[0m \u001b[34mmetapub.DxDOI[6908]\u001b[0m \u001b[1;30mINFO\u001b[0m cached results for key 10.1007/s00592-018-1132-0 (10.1007/s00592-018-1132-0) \n",
      "\u001b[32m2024-10-29 13:22:49\u001b[0m \u001b[35mDESKTOP-NVR8E1L\u001b[0m \u001b[34mmetapub.DxDOI[6908]\u001b[0m \u001b[1;30mINFO\u001b[0m URL is accessible: https://link.springer.com/article/10.1007/s40520-017-0797-5 (Status code: 200)\n",
      "\u001b[32m2024-10-29 13:22:49\u001b[0m \u001b[35mDESKTOP-NVR8E1L\u001b[0m \u001b[34mmetapub.DxDOI[6908]\u001b[0m \u001b[1;30mINFO\u001b[0m cached results for key 10.1007/s40520-017-0797-5 (10.1007/s40520-017-0797-5) \n",
      "\u001b[32m2024-10-29 13:22:56\u001b[0m \u001b[35mDESKTOP-NVR8E1L\u001b[0m \u001b[34mmetapub.DxDOI[6908]\u001b[0m \u001b[1;30mINFO\u001b[0m URL is accessible: https://jamanetwork.com/journals/jamaneurology/fullarticle/2635831 (Status code: 200)\n",
      "\u001b[32m2024-10-29 13:22:56\u001b[0m \u001b[35mDESKTOP-NVR8E1L\u001b[0m \u001b[34mmetapub.DxDOI[6908]\u001b[0m \u001b[1;30mINFO\u001b[0m cached results for key 10.1001/jamaneurol.2017.1317 (10.1001/jamaneurol.2017.1317) \n"
     ]
    },
    {
     "name": "stdout",
     "output_type": "stream",
     "text": [
      "cannot access local variable 'pdfurl' where it is not associated with a value\n"
     ]
    },
    {
     "name": "stderr",
     "output_type": "stream",
     "text": [
      "\u001b[32m2024-10-29 13:23:54\u001b[0m \u001b[35mDESKTOP-NVR8E1L\u001b[0m \u001b[34mmetapub.DxDOI[6908]\u001b[0m \u001b[1;30mINFO\u001b[0m URL is accessible: https://linkinghub.elsevier.com/retrieve/pii/S1279770723002014 (Status code: 200)\n",
      "\u001b[32m2024-10-29 13:23:54\u001b[0m \u001b[35mDESKTOP-NVR8E1L\u001b[0m \u001b[34mmetapub.DxDOI[6908]\u001b[0m \u001b[1;30mINFO\u001b[0m cached results for key 10.1007/s12603-015-0602-0 (10.1007/s12603-015-0602-0) \n",
      "\u001b[32m2024-10-29 13:23:57\u001b[0m \u001b[35mDESKTOP-NVR8E1L\u001b[0m \u001b[34mmetapub.DxDOI[6908]\u001b[0m \u001b[1;30mINFO\u001b[0m URL is accessible: https://link.springer.com/article/10.1007/s12282-016-0687-2 (Status code: 200)\n",
      "\u001b[32m2024-10-29 13:23:57\u001b[0m \u001b[35mDESKTOP-NVR8E1L\u001b[0m \u001b[34mmetapub.DxDOI[6908]\u001b[0m \u001b[1;30mINFO\u001b[0m cached results for key 10.1007/s12282-016-0687-2 (10.1007/s12282-016-0687-2) \n",
      "\u001b[32m2024-10-29 13:24:20\u001b[0m \u001b[35mDESKTOP-NVR8E1L\u001b[0m \u001b[34mmetapub.DxDOI[6908]\u001b[0m \u001b[1;30mINFO\u001b[0m URL is accessible: https://link.springer.com/article/10.1007/s00408-015-9751-5 (Status code: 200)\n",
      "\u001b[32m2024-10-29 13:24:20\u001b[0m \u001b[35mDESKTOP-NVR8E1L\u001b[0m \u001b[34mmetapub.DxDOI[6908]\u001b[0m \u001b[1;30mINFO\u001b[0m cached results for key 10.1007/s00408-015-9751-5 (10.1007/s00408-015-9751-5) \n",
      "\u001b[32m2024-10-29 13:25:43\u001b[0m \u001b[35mDESKTOP-NVR8E1L\u001b[0m \u001b[34mmetapub.DxDOI[6908]\u001b[0m \u001b[1;30mINFO\u001b[0m URL is accessible: https://linkinghub.elsevier.com/retrieve/pii/S1279770723024740 (Status code: 200)\n",
      "\u001b[32m2024-10-29 13:25:43\u001b[0m \u001b[35mDESKTOP-NVR8E1L\u001b[0m \u001b[34mmetapub.DxDOI[6908]\u001b[0m \u001b[1;30mINFO\u001b[0m cached results for key 10.1007/s12603-010-0098-6 (10.1007/s12603-010-0098-6) \n",
      "\u001b[32m2024-10-29 13:25:54\u001b[0m \u001b[35mDESKTOP-NVR8E1L\u001b[0m \u001b[34mmetapub.DxDOI[6908]\u001b[0m \u001b[1;30mINFO\u001b[0m URL is accessible: https://link.springer.com/article/10.1007/s10597-010-9317-1 (Status code: 200)\n",
      "\u001b[32m2024-10-29 13:25:54\u001b[0m \u001b[35mDESKTOP-NVR8E1L\u001b[0m \u001b[34mmetapub.DxDOI[6908]\u001b[0m \u001b[1;30mINFO\u001b[0m cached results for key 10.1007/s10597-010-9317-1 (10.1007/s10597-010-9317-1) \n",
      "\u001b[32m2024-10-29 13:26:43\u001b[0m \u001b[35mDESKTOP-NVR8E1L\u001b[0m \u001b[34mmetapub.DxDOI[6908]\u001b[0m \u001b[1;30mINFO\u001b[0m URL is accessible: https://link.springer.com/article/10.1007/s00520-004-0769-0 (Status code: 200)\n",
      "\u001b[32m2024-10-29 13:26:43\u001b[0m \u001b[35mDESKTOP-NVR8E1L\u001b[0m \u001b[34mmetapub.DxDOI[6908]\u001b[0m \u001b[1;30mINFO\u001b[0m cached results for key 10.1007/s00520-004-0769-0 (10.1007/s00520-004-0769-0) \n",
      "\u001b[32m2024-10-29 13:26:52\u001b[0m \u001b[35mDESKTOP-NVR8E1L\u001b[0m \u001b[34mmetapub.DxDOI[6908]\u001b[0m \u001b[1;30mINFO\u001b[0m URL is accessible: https://link.springer.com/article/10.1007/BF03324501 (Status code: 200)\n",
      "\u001b[32m2024-10-29 13:26:52\u001b[0m \u001b[35mDESKTOP-NVR8E1L\u001b[0m \u001b[34mmetapub.DxDOI[6908]\u001b[0m \u001b[1;30mINFO\u001b[0m cached results for key 10.1007/BF03324501 (10.1007/BF03324501) \n",
      "\u001b[32m2024-10-29 13:27:01\u001b[0m \u001b[35mDESKTOP-NVR8E1L\u001b[0m \u001b[34mmetapub.DxDOI[6908]\u001b[0m \u001b[1;30mINFO\u001b[0m URL returned status code 403: https://journals.sagepub.com/doi/10.1177/1358836X0100600405\n",
      "\u001b[32m2024-10-29 13:27:01\u001b[0m \u001b[35mDESKTOP-NVR8E1L\u001b[0m \u001b[34mmetapub.DxDOI[6908]\u001b[0m \u001b[1;30mINFO\u001b[0m cached results for key 10.1177/1358836X0100600405 (10.1177/1358836X0100600405) \n",
      "\u001b[32m2024-10-29 13:27:24\u001b[0m \u001b[35mDESKTOP-NVR8E1L\u001b[0m \u001b[34mmetapub.DxDOI[6908]\u001b[0m \u001b[1;30mINFO\u001b[0m URL is accessible: https://www.europeanreview.org/article/32318 (Status code: 200)\n",
      "\u001b[32m2024-10-29 13:27:24\u001b[0m \u001b[35mDESKTOP-NVR8E1L\u001b[0m \u001b[34mmetapub.DxDOI[6908]\u001b[0m \u001b[1;30mINFO\u001b[0m cached results for key 10.26355/eurrev_202305_32318 (10.26355/eurrev_202305_32318) \n",
      "\u001b[32m2024-10-29 13:27:37\u001b[0m \u001b[35mDESKTOP-NVR8E1L\u001b[0m \u001b[34mmetapub.DxDOI[6908]\u001b[0m \u001b[1;30mINFO\u001b[0m URL is accessible: https://jamanetwork.com/journals/jamapediatrics/fullarticle/2793114 (Status code: 200)\n",
      "\u001b[32m2024-10-29 13:27:37\u001b[0m \u001b[35mDESKTOP-NVR8E1L\u001b[0m \u001b[34mmetapub.DxDOI[6908]\u001b[0m \u001b[1;30mINFO\u001b[0m cached results for key 10.1001/jamapediatrics.2022.1973 (10.1001/jamapediatrics.2022.1973) \n"
     ]
    },
    {
     "name": "stdout",
     "output_type": "stream",
     "text": [
      "cannot access local variable 'pdfurl' where it is not associated with a value\n"
     ]
    },
    {
     "name": "stderr",
     "output_type": "stream",
     "text": [
      "\u001b[32m2024-10-29 13:28:46\u001b[0m \u001b[35mDESKTOP-NVR8E1L\u001b[0m \u001b[34mmetapub.DxDOI[6908]\u001b[0m \u001b[1;30mINFO\u001b[0m URL is accessible: https://link.springer.com/article/10.1007/s00228-018-2562-x (Status code: 200)\n",
      "\u001b[32m2024-10-29 13:28:46\u001b[0m \u001b[35mDESKTOP-NVR8E1L\u001b[0m \u001b[34mmetapub.DxDOI[6908]\u001b[0m \u001b[1;30mINFO\u001b[0m cached results for key 10.1007/s00228-018-2562-x (10.1007/s00228-018-2562-x) \n",
      "\u001b[32m2024-10-29 13:28:46\u001b[0m \u001b[35mDESKTOP-NVR8E1L\u001b[0m \u001b[34mmetapub.DxDOI[6908]\u001b[0m \u001b[1;30mINFO\u001b[0m cached results for key 10.1007/s00228-018-2562-x (10.1007/s00228-018-2562-x) \n",
      "\u001b[32m2024-10-29 13:28:58\u001b[0m \u001b[35mDESKTOP-NVR8E1L\u001b[0m \u001b[34mmetapub.DxDOI[6908]\u001b[0m \u001b[1;30mINFO\u001b[0m URL is accessible: https://linkinghub.elsevier.com/retrieve/pii/S1341321X18301776 (Status code: 200)\n",
      "\u001b[32m2024-10-29 13:28:58\u001b[0m \u001b[35mDESKTOP-NVR8E1L\u001b[0m \u001b[34mmetapub.DxDOI[6908]\u001b[0m \u001b[1;30mINFO\u001b[0m cached results for key 10.1016/j.jiac.2018.06.006 (10.1016/j.jiac.2018.06.006) \n",
      "\u001b[32m2024-10-29 13:30:17\u001b[0m \u001b[35mDESKTOP-NVR8E1L\u001b[0m \u001b[34mmetapub.DxDOI[6908]\u001b[0m \u001b[1;30mINFO\u001b[0m URL returned status code 403: https://www.acpjournals.org/doi/10.7326/0003-4819-157-12-201212180-00563\n",
      "\u001b[32m2024-10-29 13:30:17\u001b[0m \u001b[35mDESKTOP-NVR8E1L\u001b[0m \u001b[34mmetapub.DxDOI[6908]\u001b[0m \u001b[1;30mINFO\u001b[0m cached results for key 10.7326/0003-4819-157-12-201212180-00563 (10.7326/0003-4819-157-12-201212180-00563) \n",
      "\u001b[32m2024-10-29 13:30:25\u001b[0m \u001b[35mDESKTOP-NVR8E1L\u001b[0m \u001b[34mmetapub.DxDOI[6908]\u001b[0m \u001b[1;30mINFO\u001b[0m URL is accessible: https://journals.lww.com/ajg/abstract/2012/06000/saccharomyces_boulardiifor_the_prevention_of.21.aspx (Status code: 200)\n",
      "\u001b[32m2024-10-29 13:30:25\u001b[0m \u001b[35mDESKTOP-NVR8E1L\u001b[0m \u001b[34mmetapub.DxDOI[6908]\u001b[0m \u001b[1;30mINFO\u001b[0m cached results for key 10.1038/ajg.2012.56 (10.1038/ajg.2012.56) \n",
      "\u001b[32m2024-10-29 13:30:29\u001b[0m \u001b[35mDESKTOP-NVR8E1L\u001b[0m \u001b[34mmetapub.DxDOI[6908]\u001b[0m \u001b[1;30mINFO\u001b[0m URL is accessible: https://journals.lww.com/jcge/abstract/2011/10000/a_randomized,_double_blind,_placebo_controlled.12.aspx (Status code: 200)\n",
      "\u001b[32m2024-10-29 13:30:29\u001b[0m \u001b[35mDESKTOP-NVR8E1L\u001b[0m \u001b[34mmetapub.DxDOI[6908]\u001b[0m \u001b[1;30mINFO\u001b[0m cached results for key 10.1097/MCG.0b013e3182166a42 (10.1097/MCG.0b013e3182166a42) \n",
      "\u001b[32m2024-10-29 13:30:45\u001b[0m \u001b[35mDESKTOP-NVR8E1L\u001b[0m \u001b[34mmetapub.DxDOI[6908]\u001b[0m \u001b[1;30mINFO\u001b[0m URL is accessible: https://journals.lww.com/ajg/abstract/2010/07000/dose_response_efficacy_of_a_proprietary_probiotic.30.aspx (Status code: 200)\n",
      "\u001b[32m2024-10-29 13:30:45\u001b[0m \u001b[35mDESKTOP-NVR8E1L\u001b[0m \u001b[34mmetapub.DxDOI[6908]\u001b[0m \u001b[1;30mINFO\u001b[0m cached results for key 10.1038/ajg.2010.11 (10.1038/ajg.2010.11) \n",
      "\u001b[32m2024-10-29 13:30:50\u001b[0m \u001b[35mDESKTOP-NVR8E1L\u001b[0m \u001b[34mmetapub.DxDOI[6908]\u001b[0m \u001b[1;30mINFO\u001b[0m URL is accessible: https://journals.lww.com/jcge/abstract/2010/02000/intake_of_lactobacillus_plantarum_reduces_certain.10.aspx (Status code: 200)\n",
      "\u001b[32m2024-10-29 13:30:50\u001b[0m \u001b[35mDESKTOP-NVR8E1L\u001b[0m \u001b[34mmetapub.DxDOI[6908]\u001b[0m \u001b[1;30mINFO\u001b[0m cached results for key 10.1097/MCG.0b013e3181b2683f (10.1097/MCG.0b013e3181b2683f) \n",
      "\u001b[32m2024-10-29 13:31:03\u001b[0m \u001b[35mDESKTOP-NVR8E1L\u001b[0m \u001b[34mmetapub.DxDOI[6908]\u001b[0m \u001b[1;30mINFO\u001b[0m URL is accessible: https://www.nature.com/articles/1602718 (Status code: 200)\n",
      "\u001b[32m2024-10-29 13:31:03\u001b[0m \u001b[35mDESKTOP-NVR8E1L\u001b[0m \u001b[34mmetapub.DxDOI[6908]\u001b[0m \u001b[1;30mINFO\u001b[0m cached results for key 10.1038/sj.ejcn.1602718 (10.1038/sj.ejcn.1602718) \n",
      "\u001b[32m2024-10-29 13:31:21\u001b[0m \u001b[35mDESKTOP-NVR8E1L\u001b[0m \u001b[34mmetapub.DxDOI[6908]\u001b[0m \u001b[1;30mINFO\u001b[0m URL is accessible: https://linkinghub.elsevier.com/retrieve/pii/S0002927099008096 (Status code: 200)\n",
      "\u001b[32m2024-10-29 13:31:21\u001b[0m \u001b[35mDESKTOP-NVR8E1L\u001b[0m \u001b[34mmetapub.DxDOI[6908]\u001b[0m \u001b[1;30mINFO\u001b[0m cached results for key 10.1016/s0002-9270(99)00809-6 (10.1016/s0002-9270(99)00809-6) \n"
     ]
    }
   ],
   "source": [
    "from metapub import FindIt\n",
    "import requests\n",
    "from time import sleep\n",
    "\n",
    "#get the list of unique pubmed_ids\n",
    "pubmed_ids = list(results_df['pubmed_id'].unique())\n",
    "\n",
    "def get_pdf_url(pubmed_id):\n",
    "    try:\n",
    "        sleep(0.3334)\n",
    "        status = \"\"\n",
    "        article = FindIt(pubmed_id)\n",
    "        if article.url:\n",
    "            article = FindIt(pubmed_id)\n",
    "            status = \"found\"\n",
    "            url = article.url\n",
    "\n",
    "            return url, status\n",
    "        else:\n",
    "            status = article.reason\n",
    "            url = \"\"\n",
    "            return url, status\n",
    "    except Exception as e:\n",
    "        print(e)\n",
    "        return \"\", \"error\"\n",
    "\n",
    "pdf_urls = []\n",
    "pdf_status = []\n",
    "for pubmed_id in tqdm(pubmed_ids):\n",
    "    url, status = get_pdf_url(pubmed_id)\n",
    "    pdf_urls.append(url)\n",
    "    pdf_status.append(status)\n",
    "\n",
    "#add the pdf urls and status to the results_df\n",
    "results_df['pdf_url'] = pdf_urls\n",
    "results_df['pdf_status'] = pdf_status\n",
    "#how many pdfs were found?\n",
    "print(\"Number of PDFs found: \", len(results_df[results_df['pdf_status'] == \"found\"]))\n",
    "\n",
    "results_df.to_csv(\"PubMed_PICO_Results.csv\", index=False)"
   ]
  },
  {
   "cell_type": "code",
   "execution_count": 62,
   "metadata": {},
   "outputs": [
    {
     "data": {
      "application/vnd.jupyter.widget-view+json": {
       "model_id": "1ec01756b9c34daa8116ec1adea1e9b4",
       "version_major": 2,
       "version_minor": 0
      },
      "text/plain": [
       "  0%|          | 0/548 [00:00<?, ?it/s]"
      ]
     },
     "metadata": {},
     "output_type": "display_data"
    },
    {
     "name": "stdout",
     "output_type": "stream",
     "text": [
      "HTTP Error 500: Internal Server Error\n",
      "Error downloading pdf:  http://europepmc.org/backend/ptpmcrender.fcgi?accid=PMC3304299&blobtype=pdf\n"
     ]
    }
   ],
   "source": [
    "#we want to get the pdfs for the articles that were found. Save them to the folder pdfs and create new folder for each PICO question\n",
    "import os\n",
    "import urllib.request\n",
    "\n",
    "#make a directory for the pdfs\n",
    "if not os.path.exists(\"pdfs\"):\n",
    "    os.makedirs(\"pdfs\")\n",
    "\n",
    "pico_ids = list(results_df['PICO_ID'].unique())\n",
    "\n",
    "for pico_id in pico_ids:\n",
    "    if not os.path.exists(f\"pdfs/{pico_id}\"):\n",
    "        os.makedirs(f\"pdfs/{pico_id}\")\n",
    "\n",
    "for index, row in tqdm(results_df.iterrows(), total=len(results_df)):\n",
    "    if row['pdf_status'] == \"found\":\n",
    "        pdf_url = row['pdf_url']\n",
    "        pico_id = row['PICO_ID']\n",
    "        pdf_name = f\"pdfs/{pico_id}/{index}.pdf\"\n",
    "        try:\n",
    "            urllib.request.urlretrieve(pdf_url, pdf_name)\n",
    "        except Exception as e:\n",
    "            print(e)\n",
    "            print(\"Error downloading pdf: \", pdf_url)\n",
    "            continue"
   ]
  },
  {
   "cell_type": "code",
   "execution_count": 51,
   "metadata": {},
   "outputs": [],
   "source": []
  }
 ],
 "metadata": {
  "kernelspec": {
   "display_name": "Python 3",
   "language": "python",
   "name": "python3"
  },
  "language_info": {
   "codemirror_mode": {
    "name": "ipython",
    "version": 3
   },
   "file_extension": ".py",
   "mimetype": "text/x-python",
   "name": "python",
   "nbconvert_exporter": "python",
   "pygments_lexer": "ipython3",
   "version": "3.11.2"
  }
 },
 "nbformat": 4,
 "nbformat_minor": 2
}
