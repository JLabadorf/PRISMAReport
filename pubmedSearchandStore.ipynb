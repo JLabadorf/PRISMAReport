{
 "cells": [
  {
   "cell_type": "markdown",
   "metadata": {},
   "source": [
    "# PubMed Search and Store\n",
    "\n",
    "## Notebook Description\n",
    "\n",
    "This notebook, **PubMed Search and Store**, provides a streamlined method for searching PubMed and storing essential information from retrieved articles. The goal is to facilitate the extraction and organization of metadata from PubMed articles and make it available for further analysis and review.\n",
    "\n",
    "## Objectives\n",
    "\n",
    "1. **Search PubMed**: Retrieve articles from PubMed based on a specified search query.\n",
    "2. **Store Essential Metadata**: Extract and save key fields for each article, including:\n",
    "   - **Title**: Article title.\n",
    "   - **Authors**: List of authors.\n",
    "   - **PubMed ID**: Unique identifier for PubMed articles.\n",
    "   - **DOI**: Digital Object Identifier, if available.\n",
    "   - **Abstract**: Summary of the article’s content.\n",
    "3. **Retrieve PDF URL**: If available, attempt to locate and store a URL to the full-text PDF of each article.\n",
    "\n",
    "## Implementation Details\n"
   ]
  }
 ],
 "metadata": {
  "language_info": {
   "name": "python"
  }
 },
 "nbformat": 4,
 "nbformat_minor": 2
}
