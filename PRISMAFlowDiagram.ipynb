{
 "cells": [
  {
   "cell_type": "markdown",
   "metadata": {},
   "source": [
    "## Notebook Description\n",
    "\n",
    "This notebook automates the initial step in the PRISMA Flow process by validating PubMed articles against a specified PICO (Population, Intervention, Comparison, Outcome) statement. Using **Vertex AI** and **Gemini Flash 1.5**, the notebook determines whether each article matches the defined PICO criteria based on its title and abstract, streamlining the systematic review process.\n",
    "\n",
    "## Objectives\n",
    "\n",
    "1. **PICO Validation**: Ensure that each article aligns with the PICO statement provided by the user, using AI-powered validation.\n",
    "2. **PRISMA Flow Step 1**: Automate the qualification of articles for inclusion in the PRISMA Flow process based on PICO relevance.\n",
    "3. **Efficient Filtering**: Reduce the manual review workload by programmatically filtering articles that match the review's scope and objectives.\n",
    "\n",
    "## Process Overview\n",
    "\n",
    "1. **Input Data**:\n",
    "   - Retrieve article **title** and **abstract** from PubMed.\n",
    "   - Accept a **PICO statement** input from the user.\n",
    "  \n",
    "2. **Validation with Vertex AI (Gemini Flash 1.5)**:\n",
    "   - Send the title, abstract, and PICO statement to Vertex AI.\n",
    "   - Use **Gemini Flash 1.5** to evaluate if the article matches the criteria defined in the PICO statement.\n",
    "  \n",
    "3. **Output**:\n",
    "   - Return a validation result indicating whether the article aligns with the PICO statement.\n",
    "   - Generate a structured output for qualifying articles to proceed in the PRISMA Flow.\n"
   ]
  },
  {
   "cell_type": "code",
   "execution_count": null,
   "metadata": {
    "vscode": {
     "languageId": "plaintext"
    }
   },
   "outputs": [],
   "source": []
  },
  {
   "cell_type": "code",
   "execution_count": null,
   "metadata": {
    "vscode": {
     "languageId": "plaintext"
    }
   },
   "outputs": [],
   "source": []
  }
 ],
 "metadata": {
  "language_info": {
   "name": "python"
  }
 },
 "nbformat": 4,
 "nbformat_minor": 2
}
