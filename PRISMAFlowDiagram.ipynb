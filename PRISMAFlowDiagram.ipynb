{
 "cells": [
  {
   "cell_type": "markdown",
   "metadata": {},
   "source": [
    "## Notebook Description\n",
    "\n",
    "This notebook automates the initial step in the PRISMA Flow process by validating PubMed articles against a specified PICO (Population, Intervention, Comparison, Outcome) statement. Using **Vertex AI** and **Gemini Flash 1.5**, the notebook determines whether each article matches the defined PICO criteria based on its title and abstract, streamlining the systematic review process.\n",
    "\n",
    "## Objectives\n",
    "\n",
    "1. **PICO Validation**: Ensure that each article aligns with the PICO statement provided by the user, using AI-powered validation.\n",
    "2. **PRISMA Flow Step 1**: Automate the qualification of articles for inclusion in the PRISMA Flow process based on PICO relevance.\n",
    "3. **Efficient Filtering**: Reduce the manual review workload by programmatically filtering articles that match the review's scope and objectives.\n",
    "\n",
    "## Process Overview\n",
    "\n",
    "1. **Input Data**:\n",
    "   - Retrieve article **title** and **abstract** from PubMed.\n",
    "   - Accept a **PICO statement** input from the user.\n",
    "  \n",
    "2. **Validation with Vertex AI (Gemini Flash 1.5)**:\n",
    "   - Send the title, abstract, and PICO statement to Vertex AI.\n",
    "   - Use **Gemini Flash 1.5** to evaluate if the article matches the criteria defined in the PICO statement.\n",
    "  \n",
    "3. **Output**:\n",
    "   - Return a validation result indicating whether the article aligns with the PICO statement.\n",
    "   - Generate a structured output for qualifying articles to proceed in the PRISMA Flow.\n"
   ]
  },
  {
   "cell_type": "code",
   "execution_count": 9,
   "metadata": {},
   "outputs": [],
   "source": [
    "#We want to create a single file that contains all the pdfs in the pdfs/debd9b3c-4531-462c-b2c2-983b2710fe81 folder.\n",
    "\n",
    "import PyPDF2\n",
    "import os\n",
    "\n",
    "#Get all the pdf filenames\n",
    "pdf_files = []\n",
    "for filename in os.listdir('pdfs/debd9b3c-4531-462c-b2c2-983b2710fe81'):\n",
    "    if filename.endswith('.pdf'):\n",
    "        pdf_files.append(filename)\n",
    "pdf_files.sort(key=str.lower)\n",
    "\n",
    "pdf_writer = PyPDF2.PdfWriter()\n",
    "\n",
    "#Loop through all the pdf files\n",
    "for filename in pdf_files[:10]:\n",
    "    pdf_file_obj = open('pdfs/debd9b3c-4531-462c-b2c2-983b2710fe81/' + filename, 'rb')\n",
    "    pdf_reader = PyPDF2.PdfReader(pdf_file_obj)\n",
    "\n",
    "    #Loop through all the pages (except the first) and add them\n",
    "    for page_num in range(0, len(pdf_reader.pages)):\n",
    "        page_obj = pdf_reader.pages[page_num]\n",
    "        pdf_writer.add_page(page_obj)\n",
    "\n",
    "#Save the resulting pdf to a file\n",
    "pdf_output = open('pdfs/question3_sample.pdf', 'wb')\n",
    "pdf_writer.write(pdf_output)\n",
    "\n",
    "pdf_output.close()"
   ]
  }
 ],
 "metadata": {
  "kernelspec": {
   "display_name": "Python 3",
   "language": "python",
   "name": "python3"
  },
  "language_info": {
   "codemirror_mode": {
    "name": "ipython",
    "version": 3
   },
   "file_extension": ".py",
   "mimetype": "text/x-python",
   "name": "python",
   "nbconvert_exporter": "python",
   "pygments_lexer": "ipython3",
   "version": "3.11.2"
  }
 },
 "nbformat": 4,
 "nbformat_minor": 2
}
