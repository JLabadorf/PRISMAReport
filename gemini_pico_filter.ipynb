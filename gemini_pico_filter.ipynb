{
 "cells": [
  {
   "cell_type": "code",
   "execution_count": 15,
   "metadata": {},
   "outputs": [],
   "source": [
    "import json\n",
    "import os\n",
    "import google.generativeai as genai\n",
    "from google.generativeai import caching\n",
    "import datetime\n",
    "import time\n",
    "from dotenv import load_dotenv\n",
    "\n",
    "load_dotenv()\n",
    "QUERY_UUID=\"debd9b3c-4531-462c-b2c2-983b2710fe81\"\n",
    "\n",
    "PROMPT= open(\"instructions.txt\", \"r\").read()\n",
    "\n",
    "\n",
    "genai.configure(api_key=os.environ['GEMINI_API_KEY'])\n",
    "\n",
    "base = f\"pdfs/{QUERY_UUID}/\"\n",
    "paths = os.listdir(base)\n",
    "files = []\n",
    "\n",
    "for path in paths[:10]:\n",
    "    files.append(genai.upload_file(path=base+path))\n",
    "\n",
    "#unfortunately, the model is not able to handle more than 500k tokens at a time. We will limit the number of papers to 10 for now.\n",
    "#This is a limitation of the context cache. \n",
    "num_papers = len(paths[:10])\n",
    "\n",
    "generation_config = {\n",
    "  \"temperature\": 1,\n",
    "  \"top_p\": 0.95,\n",
    "  \"top_k\": 40,\n",
    "  \"max_output_tokens\": 8192,\n",
    "  \"response_mime_type\": \"application/json\",\n",
    "}\n",
    "\n",
    "# Create a cache with a 2 hour TTL\n",
    "cache = caching.CachedContent.create(\n",
    "    model='models/gemini-1.5-flash-001',\n",
    "    display_name='test', # used to identify the cache\n",
    "    system_instruction=(PROMPT),\n",
    "    contents=files,\n",
    "    ttl=datetime.timedelta(hours=2),\n",
    ")\n",
    "\n",
    "\n",
    "\n",
    "model = genai.GenerativeModel.from_cached_content(cached_content=cache,  generation_config=generation_config)\n",
    "\n",
    "response = model.generate_content([(\n",
    "    f\"There are {num_papers} articles in this research. Please return a json array with the title of each of the articles.\"\n",
    ")])\n",
    "\n",
    "paper_titles = json.loads(response.text)\n",
    "\n",
    "\n"
   ]
  },
  {
   "cell_type": "code",
   "execution_count": 16,
   "metadata": {},
   "outputs": [
    {
     "name": "stdout",
     "output_type": "stream",
     "text": [
      "Socioeconomic status and health, in social epidemiology\n",
      "Educational attainment and cognitive decline in old age\n",
      "Does childhood schooling affect old age memory or mental status? Using state schooling laws as natural experiments\n",
      "The effect of education on old age cognitive abilities\n",
      "Depression and the risk for cardiovascular diseases: systematic review and meta analysis\n",
      "Depression and risk of stroke morbidity and mortality: a meta-analysis and systematic review\n",
      "Major depression as a neuroprogressive prelude to dementia: what is the evidence?\n",
      "Depression as a risk factor for the onset of type 2 diabetes mellitus. A meta-analysis\n",
      "Social support and protection from depression: systematic review of current findings in Western countries\n",
      "Behavioural activation for depression in older people: systematic review and meta-analysis\n",
      "Depression and cognition in the elderly\n",
      "Psychosocial interventions for the prevention of depression in older adults: systematic review and meta-analysis\n",
      "Effect of singing interventions on symptoms of postnatal depression: three-arm randomised controlled trial\n",
      "Effectiveness and cost-effectiveness of community singing on mental health-related quality of life of older people: randomised controlled trial\n",
      "The impact of professionally conducted cultural programs on the physical health, mental health, and social functioning of older adults\n",
      "Museum object handling groups in older adult mental health inpatient care\n",
      "Effects of creative museum outreach sessions on measures of confidence, sociability and well-being for mental health and addiction recovery service-users\n",
      "Toward a neural basis of music perception - a review and updated model\n",
      "Museums and art galleries as partners for public health interventions\n",
      "Leisure as a coping resource: variations in coping with traumatic injury and illness\n",
      "Cohort profile: the English Longitudinal Study of Ageing\n",
      "A revised CES-D measure of depressive symptoms and a DSM-based measure of major depressive episodes in the elderly\n",
      "Documentation of Affective Functioning Measures in the Health and Retirement Study\n",
      "Patterns of receptive and creative cultural activities and their association with perceived health, anxiety, depression and satisfaction with life among adults: the HUNT study, Norway\n",
      "Is extending compulsory schooling alone enough to raise earnings? Evidence from French and British compulsory schooling laws*\n",
      "Overeducation and depressive symptoms: diminishing mental health returns to education\n",
      "Sex differences in the effect of education on depression: resource multiplication or resource substitution?\n",
      "Educational attainment and health: evidence from a sample of older adults\n",
      "Regression discontinuity inference with specification error\n",
      "Regression discontinuity designs are underutilized in medicine, epidemiology, and public health: a review of current and best practice\n",
      "Does education improve cognitive performance four decades after school completion?\n",
      "Cognitive reserve in ageing and Alzheimer’s disease\n",
      "Timing of onset of cognitive decline: results from Whitehall II prospective cohort study\n",
      "Socioeconomic inequalities in depression: a meta-analysis\n",
      "Is more education always improve mental health? Evidence from a British compulsory schooling reform\n",
      "['{\\n\"Article\": \"Cultural engagement and incident depression in older adults: evidence from the English Longitudinal Study of Ageing\",\\n\"Population\": \"Adults aged ≥50 years\",\\n\"Intervention/Exposure\": \"Cultural engagement\",\\n\"Comparison\": \"No comparison is made in this study\",\\n\"Outcome\": \"Risk of developing depression over the following 10 years\",\\n\"PICO\": \"Passing\",\\n\"PECO\": \"Passing\",\\n\"Classification\": \"Passing\"\\n\\n}\\n\\n', '{\\n\"Article\":\"Cultural engagement and incident depression in older adults: evidence from the English Longitudinal Study of Ageing\",\\n\"Population\":\"Adults aged 65 or over\",\\n\"Intervention/Exposure\":\"Cultural engagement (including going to museums, theatre and cinema)\",\\n\"Comparison\":\"No comparison group\",\\n\"Outcome\":\"Risk of developing depression over a 10 year period\",\\n\"PICO\":\"Passing\",\\n\"PECO\":\"Failing\",\\n\"Classification\":\"Failing\"\\n}\\n', '{\"Article\": \"Cultural engagement and incident depression in older adults: evidence from the English Longitudinal Study of Ageing\",\\n\"Population\": \"Adults aged 65+\",\\n\"Intervention/Exposure\": \"Cultural engagement (including going to museums, theatre and cinema)\",\\n\"Comparison\": \"No comparison group (Observational)\",\\n\"Outcome\": \"Risk of developing depression over the next 10 years\",\\n\"PICO\": \"Passing\",\\n\"PECO\": \"Not Applicable (Observational)\",\\n\"Classification\": \"Passing\"\\n}\\n', '{\"Article\": \"Cultural engagement and incident depression in older adults: evidence from the English Longitudinal Study of Ageing\",\\n\"Population\": \"Adults aged 65 and over in England who were free from depression at baseline\",\\n\"Intervention/Exposure\": \"Frequency of Cultural Engagement (including going to museums, theatre and cinema)\",\\n\"Comparison\": \"Never, less than once a year, once or twice a year, every few months, about once a month or more\",\\n\"Outcome\": \"The risk of developing depression over the following 10 years\",\\n\"PICO\": \"Passing\",\\n\"PECO\": \"Passing\",\\n\"Classification\": \"Include\"\\n}\\n', '{\\n\\n\"Article\": \"Cultural engagement and incident depression in older adults: evidence from the English Longitudinal Study of Ageing\",\\n\\n\"Population\": \"Adults aged 65 and older\",\\n\\n\"Intervention/Exposure\": \"Cultural engagement (including going to museums, theatre and cinema)\",\\n\\n\"Comparison\": \"Not applicable\",\\n\\n\"Outcome\": \"Risk of developing depression over a 10-year period\",\\n\\n\"PICO\": \"Passing\",\\n\\n\"PECO\": \"Not applicable\",\\n\\n\"Classification\": \"Passing\"\\n\\n}\\n\\n', '{\\n\\n\"Article\": \"Cultural engagement and incident depression in older adults: evidence from the English Longitudinal Study of Ageing\",\\n\\n\"Population\": \"Adults aged ≥50 years who were free from depression at baseline\",\\n\\n\"Intervention/Exposure\": \"Frequency of cultural engagement (including going to museums, theatre and cinema)\",\\n\\n\"Comparison\": \"N/A\",\\n\\n\"Outcome\": \"Risk of developing depression over the following 10 years\",\\n\\n\"PICO\": \"Passing\",\\n\\n\"PECO\": \"N/A\",\\n\\n\"Classification\": \"Passing\"\\n\\n}\\n\\n', '{\\n\"Article\":\"Cultural engagement and incident depression in older adults: evidence from the English Longitudinal Study of Ageing\",\\n\"Population\":\"Adults aged 65 or older\",\\n\"Intervention/Exposure\":\"Cultural engagement (going to museums, theatre, cinema)\",\\n\"Comparison\":\"No comparison group (e.g., those not engaged in cultural activities)\",\\n\"Outcome\":\"Risk of developing depression over a decade\",\\n\"PICO\":\"Passing\",\\n\"PECO\":\"Passing\",\\n\"Classification\":\"Included\"\\n}\\n', '{\\n\"Article\": \"Cultural engagement and incident depression in older adults: evidence from the English Longitudinal Study of Ageing\",\\n\"Population\": \"Adults aged 65+ \",\\n\"Intervention/Exposure\": \"Cultural engagement (defined by frequency of visits to the theatre, concerts or opera; the cinema; or an art gallery, exhibition or museum)\",\\n\"Comparison\": \"No comparison group provided (study design is an observational cohort design)\",\\n\"Outcome\": \"Incidence of depression over the following 10 years (measured by  CES-D and physician-diagnosed depression)\",\\n\"PICO\": \"Passing\",\\n\"PECO\": \"Failing\",\\n\"Classification\": \"Failing\"\\n}\\n', '{\\n  \"Article\": \"Cultural engagement and incident depression in older adults: evidence from the English Longitudinal Study of Ageing\",\\n  \"Population\": \"Adults aged 65+ years\",\\n  \"Intervention/Exposure\": \"Cultural engagement (attending museum, theater, and cinema)\",\\n  \"Comparison\": \"Not applicable (observational study)\",\\n  \"Outcome\": \"Incident depression over 10 years\",\\n  \"PICO\": \"Passing\",\\n  \"PECO\": \"Passing\",\\n  \"Classification\": \"Included\"\\n}\\n', '{\\n\\n\"Article\": \"Cultural engagement and incident depression in older adults: evidence from the English Longitudinal Study of Ageing\",\\n\\n\"Population\": \"Adults aged 50+ who were free from depression at baseline\",\\n\\n\"Intervention/Exposure\": \"Frequency of cultural engagement\",\\n\\n\"Comparison\": \"Never, less than once a year, once or twice a year, every few months, about once a month or twice a month or more\",\\n\\n\"Outcome\": \"Risk of developing depression over 10 years\",\\n\\n\"PICO\": \"Passing\",\\n\\n\"PECO\": \"Passing\",\\n\\n\"Classification\": \"Include\"\\n\\n}\\n\\n', '{\\n  \"Article\": \"Cultural engagement and incident depression in older adults: evidence from the English Longitudinal Study of Ageing\",\\n  \"Population\": \"Adults aged 65+\",\\n  \"Intervention/Exposure\": \"Cultural engagement (including going to museums, theatre and cinema)\",\\n  \"Comparison\": \"No comparison group\",\\n  \"Outcome\": \"Risk of developing depression over a 10-year period\",\\n  \"PICO\": \"Pass\",\\n  \"PECO\": \"Pass\",\\n  \"Classification\": \"Pass\"\\n\\n}\\n\\n', '{\\n\"Article\": \"Cultural engagement and incident depression in older adults: evidence from the English Longitudinal Study of Ageing\",\\n\"Population\": \"Adults aged 65+\",\\n\"Intervention/Exposure\": \"Cultural engagement (including going to museums, theatre and cinema)\",\\n\"Comparison\": \"People who attend cultural events every few months or more vs those who attend less frequently\",\\n\"Outcome\": \"Incidence of depression\",\\n\"PICO\": \"PASS\",\\n\"PECO\": \"PASS\",\\n\"Classification\": \"INCLUDE\"\\n\\n}\\n', '{\\n\"Article\":\"Cultural engagement and incident depression in older adults: evidence from the English Longitudinal Study of Ageing\",\\n\"Population\":\"Adults aged 65+\",\\n\"Intervention/Exposure\":\"Cultural Engagement\",\\n\"Comparison\":\"No comparison group\",\\n\"Outcome\":\"Incident Depression\",\\n\"PICO\":\"Passing\",\\n\"PECO\":\"Failing\",\\n\"Classification\":\"Fail\"\\n}\\n', '{\\n\"Article\": \"Cultural engagement and incident depression in older adults: evidence from the English Longitudinal Study of Ageing\",\\n\"Population\": \"2148 adults in the English Longitudinal Study of Ageing who were free from depression at baseline\",\\n\"Intervention/Exposure\": \"Frequency of cultural engagement (including going to museums, theatre and cinema)\",\\n\"Comparison\": \"N/A\",\\n\"Outcome\": \"Risk of developing depression over the following 10 years (measured using a combined index of the Centre for Epidemiological Studies Depression Scale (CES-D) and physician diagnosed depression)\",\\n\"PICO\": \"Passing\",\\n\"PECO\": \"Passing\",\\n\"Classification\": \"Included\"\\n}\\n', '{\\n\"Article\":\"Cultural engagement and incident depression in older adults: evidence from the English Longitudinal Study of Ageing\",\\n\"Population\":\"Adults aged 65+ years\",\\n\"Intervention/Exposure\":\"Cultural engagement, defined as frequency of visits to the theatre, concerts or opera, the cinema and an art gallery, exhibition or museum, with responses coded as never, less than once a year, once or twice a year, every few months, about once a month or twice a month or more.\",\\n\"Comparison\":\"No comparison, the study only assessed frequency of cultural engagement\",\\n\"Outcome\":\"Risk of developing depression over the next 10 years, assessed through the CES-D scale and physician diagnosed depression.\",\\n\"PICO\":\"Passing\",\\n\"PECO\":\"Failing\",\\n\"Classification\":\"Failing\"\\n}\\n', '{\\n\\n\"Article\":\"Cultural engagement and incident depression in older adults: evidence from the English Longitudinal Study of Ageing\",\\n\\n\"Population\":\"Adults aged 50+ years\",\\n\\n\"Intervention/Exposure\":\"Cultural engagement (frequency of visits to theatre, concerts or opera, cinema, art gallery, exhibition or museum)\",\\n\\n\"Comparison\":\"None\",\\n\\n\"Outcome\":\"Risk of developing depression over 10 years\",\\n\\n\"PICO\":\"Passing\",\\n\\n\"PECO\":\"Passing\",\\n\\n\"Classification\":\"Included\"\\n\\n}\\n', '{\\n\"Article\": \"Cultural engagement and incident depression in older adults: evidence from the English Longitudinal Study of Ageing\",\\n\"Population\": \"Adults aged 65+ in the English Longitudinal Study of Ageing\",\\n\"Intervention/Exposure\": \"Frequency of cultural engagement (including going to museums, theatre and cinema) - measured as never, less than once a year, once or twice a year, every few months, about once a month or twice a month or more.\",\\n\"Comparison\": \"N/A - study is an association not a causation\",\\n\"Outcome\": \"Incident depression over 10 years - measured by a combined index of the Centre for Epidemiological Studies Depression Scale (CES-D) and physician diagnosed depression.\",\\n\"PICO\": \"Passing\",\\n\"PECO\": \"Failing - no comparison group\",\\n\"Classification\": \"Failing\"\\n}\\n', '{\\n\"Article\": \"Cultural engagement and incident depression in older adults: evidence from the English Longitudinal Study of Ageing\",\\n\"Population\": \"Adults aged ≥50 years\",\\n\"Intervention/Exposure\": \"Cultural engagement (including going to museums, theatre and cinema)\",\\n\"Comparison\": \"Not applicable\",\\n\"Outcome\": \"Risk of developing depression over the following 10 years\",\\n\"PICO\": \"Passing\",\\n\"PECO\": \"Passing\",\\n\"Classification\": \"Included\"\\n}\\n', '{\\n\"Article\": \"Cultural engagement and incident depression in older adults: evidence from the English Longitudinal Study of Ageing\",\\n\"Population\": \"Adults aged 65+\",\\n\"Intervention/Exposure\": \"Cultural engagement (including going to museums, theatre and cinema)\",\\n\"Comparison\": \"Not Applicable\",\\n\"Outcome\": \"Incident depression (using a combined index of the CES-D and physician diagnosed depression)\",\\n\"PICO\": \"Passing\",\\n\"PECO\": \"Passing\",\\n\"Classification\": \"Included\"\\n}\\n', '{\\n\"Article\": \"Cultural engagement and incident depression in older adults: evidence from the English Longitudinal Study of Ageing\",\\n\"Population\": \"2148 adults in the English Longitudinal Study of Ageing who were free from depression at baseline\",\\n\"Intervention/Exposure\": \"frequency of cultural engagement (including going to museums, theatre and cinema)\",\\n\"Comparison\": \"people who attended every few months vs. people who attended once a month or more\",\\n\"Outcome\": \"risk of developing depression over the following 10 years\",\\n\"PICO\": \"passing\",\\n\"PECO\": \"passing\",\\n\"Classification\": \"included\"\\n}\\n\\n', '{\\n\"Article\": \"Cultural engagement and incident depression in older adults: evidence from the English Longitudinal Study of Ageing\",\\n\"Population\": \"Adults aged ≥50 years\",\\n\"Intervention/Exposure\": \"Frequency of cultural engagement (including going to museums, theatre and cinema)\",\\n\"Comparison\": \"Never\",\\n\"Outcome\": \"Risk of developing depression over the following 10 years\",\\n\"PICO\": \"Passing\",\\n\"PECO\": \"Passing\",\\n\"Classification\": \"Include\"\\n}\\n', '{\\n\"Article\": \"Cultural engagement and incident depression in older adults: evidence from the English Longitudinal Study of Ageing\",\\n\"Population\": \"Adults aged ≥50 years\",\\n\"Intervention/Exposure\": \"Cultural engagement, defined as frequency of visits to the theatre, concerts or opera, the cinema, and an art gallery, exhibition or museum\",\\n\"Comparison\": \"None\",\\n\"Outcome\": \"Risk of developing depression over 10 years, measured by a combined index of the Centre for Epidemiological Studies Depression Scale (CES-D) and physician diagnosed depression\",\\n\"PICO\": \"Passing\",\\n\"PECO\": \"Passing\",\\n\"Classification\": \"Included\"\\n}\\n\\n', '{\\n\"Article\":\"Cultural engagement and incident depression in older adults: evidence from the English Longitudinal Study of Ageing\",\\n\"Population\":\"Adults aged 65 or over\",\\n\"Intervention/Exposure\":\"Cultural engagement (including going to museums, theatre and cinema)\",\\n\"Comparison\":\"None\",\\n\"Outcome\":\"Risk of developing depression over the following 10 years\",\\n\"PICO\":\"Passing\",\\n\"PECO\":\"Passing\",\\n\"Classification\":\"Included\"\\n\\n}\\n', '{\\n\\n\"Article\": \"Cultural engagement and incident depression in older adults: evidence from the English Longitudinal Study of Ageing\",\\n\\n\"Population\": \"Adults aged 65 and over\",\\n\\n\"Intervention/Exposure\": \"Cultural engagement:  (including going to museums, theatre and cinema)  \",\\n\\n\"Comparison\": \"No Comparison Group\",\\n\\n\"Outcome\": \"Incidence of developing depression\",\\n\\n\"PICO\": \"Passing\",\\n\\n\"PECO\": \"Passing\",\\n\\n\"Classification\": \"Passing\"\\n\\n}\\n', '{\\n\"Article\": \"Cultural engagement and incident depression in older adults: evidence from the English Longitudinal Study of Ageing\",\\n\"Population\": \"Adults aged 65+ from England\",\\n\"Intervention/Exposure\": \"Frequency of cultural engagement (attending museums, theatres, or art galleries)\",\\n\"Comparison\": \"Not Applicable\",\\n\"Outcome\": \"Risk of developing depression\",\\n\"PICO\": \"Passing\",\\n\"PECO\": \"Passing\",\\n\"Classification\": \"Included\"\\n}\\n', '  \"Article\": \"Cultural engagement and incident depression in older adults: evidence from the English Longitudinal Study of Ageing\",\\n  \"Population\": \"Adults ≥ 50 years\",\\n  \"Intervention/Exposure\": \"Frequency of Cultural Engagement (including going to museums, theatre and cinema)\",\\n  \"Comparison\": \"Not Applicable (the paper does not compare two groups)\",\\n  \"Outcome\": \"Risk of developing depression over 10 years\",\\n  \"PICO\": \"Passing\",\\n  \"PECO\": \"Passing\",\\n  \"Classification\": \"Include\"\\n}\\n', '{\\n\"Article\": \"Cultural engagement and incident depression in older adults: evidence from the English Longitudinal Study of Ageing\",\\n\"Population\": \"2148 adults in the English Longitudinal Study of Ageing who were free from depression at baseline\",\\n\"Intervention/Exposure\": \"Frequency of cultural engagement (including going to museums, theatre and cinema)\",\\n\"Comparison\": \"Not applicable\",\\n\"Outcome\": \"Risk of developing depression over the following 10 years\",\\n\"PICO\": \"Passing\",\\n\"PECO\": \"Passing\",\\n\"Classification\": \"Included\"\\n}\\n\\n', '{\"Article\": \"Cultural engagement and incident depression in older adults: evidence from the English Longitudinal Study of Ageing\",\\n\"Population\": \"Adults aged 65 or over\",\\n\"Intervention/Exposure\": \"Cultural engagement (including going to museums, theatre and cinema)\",\\n\"Comparison\": \"No comparison group\",\\n\"Outcome\": \"Incident depression (measured as CES-D score and physician diagnosed depression)\",\\n\"PICO\": \"Pass\",\\n\"PECO\": \"Pass\",\\n\"Classification\": \"Include\"\\n\\n}\\n', '{\"Article\":\"Cultural engagement and incident depression in older adults: evidence from the English Longitudinal Study of Ageing\",\\n\"Population\":\"Adults aged ≥50 years\",\\n\"Intervention/Exposure\":\"Cultural engagement (including going to museums, theatre and cinema)\",\\n\"Comparison\":\"Not applicable\",\\n\"Outcome\":\"Risk of developing depression over the following 10 years\",\\n\"PICO\":\"Passing\",\\n\"PECO\":\"Passing\",\\n\"Classification\":\"Included\"\\n}\\n', '{\\n\\n\"Article\": \"Cultural engagement and incident depression in older adults: evidence from the English Longitudinal Study of Ageing\",\\n\\n\"Population\": \"Adults aged ≥50 years\",\\n\\n\"Intervention/Exposure\": \"Cultural engagement (including going to museums, theatre and cinema)\",\\n\\n\"Comparison\": \"None\",\\n\\n\"Outcome\": \"Risk of developing depression\",\\n\\n\"PICO\": \"Passing\",\\n\\n\"PECO\": \"Passing\",\\n\\n\"Classification\": \"Included\"\\n\\n}\\n\\n', '  \"Article\": \"Cultural engagement and incident depression in older adults: evidence from the English Longitudinal Study of Ageing\",\\n  \"Population\": \"Adults aged 50 and over who were free from depression at baseline\",\\n  \"Intervention/Exposure\": \"Frequency of cultural engagement (including going to museums, theatre, and cinema)\",\\n  \"Comparison\": \"None\",\\n  \"Outcome\": \"Risk of developing depression over the following 10 years\",\\n  \"PICO\": \"Passing\",\\n  \"PECO\": \"Passing\",\\n  \"Classification\": \"Included\"\\n}\\n\\n', '  \"Article\": \"Cultural engagement and incident depression in older adults: evidence from the English Longitudinal Study of Ageing\",\\n  \"Population\": \"Adults aged 65+ years\",\\n  \"Intervention/Exposure\": \"Cultural engagement\",\\n  \"Comparison\": \"Adults who never or infrequently attend cultural activities\",\\n  \"Outcome\": \"Incident depression over 10 years\",\\n  \"PICO\": \"Passing\",\\n  \"PECO\": \"Passing\",\\n  \"Classification\": \"Include\"\\n', '{\\n\"Article\": \"Cultural engagement and incident depression in older adults: evidence from the English Longitudinal Study of Ageing\",\\n\"Population\": \"Adults aged ≥50 years\",\\n\"Intervention/Exposure\": \"Cultural engagement (including going to museums, theatre and cinema)\",\\n\"Comparison\": \"Never, Less than once a year, Once or twice a year, Every few months, Once a month or more\",\\n\"Outcome\": \"Incident depression (measured by CES-D score)\",\\n\"PICO\": \"Pass\",\\n\"PECO\": \"Pass\",\\n\"Classification\": \"Include\"\\n}\\n', '{\\n\"Article\": \"Cultural engagement and incident depression in older adults: evidence from the English Longitudinal Study of Ageing\",\\n\"Population\": \"Adults aged 65+\",\\n\"Intervention/Exposure\": \"Cultural Engagement (including going to museums, theatre, and cinema)\",\\n\"Comparison\": \"Not applicable\",\\n\"Outcome\": \"Incident Depression\",\\n\"PICO\": \"Passing\",\\n\"PECO\": \"Failing\",\\n\"Classification\": \"Partial\" \\n}\\n', '{\\n  \"Article\": \"Cultural engagement and incident depression in older adults: evidence from the English Longitudinal Study of Ageing\",\\n  \"Population\": \"Adults aged 65+\",\\n  \"Intervention/Exposure\": \"Cultural engagement: attending museums, theatre, concerts\",\\n  \"Comparison\": \"None (this is an observational study, so there was no control group)\",\\n  \"Outcome\": \"Incident depression\",\\n  \"PICO\": \"Passing\",\\n  \"PECO\": \"Passing\",\\n  \"Classification\": \"Passing\"\\n}\\n\\n']\n"
     ]
    }
   ],
   "source": [
    "#for each paper, we will generate a prompt that asks the user to classify the paper according to the PICO/PECO criteria\n",
    "classifications = []\n",
    "for paper in paper_titles:\n",
    "    print(paper)\n",
    "    response = model.generate_content([(\n",
    "        'For the article titled {paper}, please List if it meets each of the PICO/PECO criteria, and then classify them as passing or failing. It must pass every point to be included. Allow for Interventions and/or Exposures. A study should be included if the PICO/PECO question can be answered by the data (e.g., a study of adults, which reports out the age group of 65+ would still be included). Allow for the studies which measure association as well a causation. For the JSON document return the keys \"Article\",\"Population\",\"Intervention/Exposure\",\"Comparison\",\"Outcome\",\"PICO\",\"PECO\",\"Classification\".'\n",
    "    )])\n",
    "\n",
    "    classifications.append(response.text)\n",
    "\n",
    "print(classifications)\n"
   ]
  },
  {
   "cell_type": "code",
   "execution_count": 20,
   "metadata": {},
   "outputs": [
    {
     "name": "stdout",
     "output_type": "stream",
     "text": [
      "[\n",
      "\"Cultural engagement and incident depression in older adults: evidence from the English Longitudinal Study of Ageing\",\n",
      "\"The Berthoin reform, educational attainment and adult health in France\",\n",
      "\"Arts engagement in older adults: a systematic review and meta-analysis\"\n",
      "]\n",
      "\n"
     ]
    }
   ],
   "source": [
    "#what are the articles titles in the cache?\n",
    "\n",
    "prompt = 'Please return a json array with the title of each of the articles.'\n",
    "response = model.generate_content([(\n",
    "    prompt\n",
    ")])\n",
    "\n",
    "print(response.text)\n"
   ]
  }
 ],
 "metadata": {
  "kernelspec": {
   "display_name": "long-context-challenge",
   "language": "python",
   "name": "python3"
  },
  "language_info": {
   "codemirror_mode": {
    "name": "ipython",
    "version": 3
   },
   "file_extension": ".py",
   "mimetype": "text/x-python",
   "name": "python",
   "nbconvert_exporter": "python",
   "pygments_lexer": "ipython3",
   "version": "3.12.4"
  }
 },
 "nbformat": 4,
 "nbformat_minor": 2
}
